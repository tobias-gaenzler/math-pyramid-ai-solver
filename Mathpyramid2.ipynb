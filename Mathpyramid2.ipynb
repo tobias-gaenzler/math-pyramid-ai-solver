{
 "cells": [
  {
   "cell_type": "code",
   "execution_count": 1,
   "id": "f107bd4e",
   "metadata": {},
   "outputs": [],
   "source": [
    "# Package imports\n",
    "import numpy as np\n",
    "import copy\n",
    "import matplotlib.pyplot as plt\n",
    "import sklearn\n",
    "import sklearn.datasets\n",
    "import sklearn.linear_model\n",
    "import pandas as pd\n",
    "import tensorflow as tf\n",
    "from tensorflow import keras\n",
    "\n",
    "%matplotlib inline\n",
    "\n",
    "%load_ext autoreload\n",
    "%autoreload 2"
   ]
  },
  {
   "cell_type": "code",
   "execution_count": 90,
   "id": "3dee837c",
   "metadata": {},
   "outputs": [
    {
     "name": "stdout",
     "output_type": "stream",
     "text": [
      "data type: <class 'pandas.core.frame.DataFrame'>\n",
      "data shape: (10000, 12)\n",
      "data:       x1  x2  x3  x4  x5  x6  y1  y2  y3  y4  y5  y6\n",
      "0      1   1   2   2   3   3   0   2   4   3   5   6\n",
      "1      1   1   2   3   3   2   0   1   4   4   5   6\n",
      "2      1   1   2   6   3   3   0   2   4   7   5  10\n",
      "3      0   1   1   5   2   2   3   6   4   7   5  13\n",
      "4      0   2   1   1   4   7   2   6   3   3   5  10\n",
      "...   ..  ..  ..  ..  ..  ..  ..  ..  ..  ..  ..  ..\n",
      "9995   1  23   4  43   5  90   0  24   2  20   3  47\n",
      "9996   0  23   4  48   5  95   1  24   2  24   3  47\n",
      "9997   0  23   4  43   5  90   1  24   2  19   3  47\n",
      "9998   1  24   3  48   5  95   0  24   2  23   4  47\n",
      "9999   0  24   3  48   5  91   1  24   2  19   4  43\n",
      "\n",
      "[10000 rows x 12 columns]\n",
      "(10000, 12) (8000, 12) (2000, 12)\n",
      "(8000, 6)\n"
     ]
    }
   ],
   "source": [
    "data = pd.read_csv(\"data_10000.csv\")\n",
    "print(\"data type:\",type(data))\n",
    "print(\"data shape:\", data.shape)\n",
    "print(\"data:\",data)\n",
    "\n",
    "# Split the data into train and test\n",
    "train_dataset = data.sample(frac=0.8, random_state=0)\n",
    "test_dataset = data.drop(train_dataset.index)\n",
    "\n",
    "# Normalize (divide positions (x1,x3,x5,0-5) by 5 and values (x2,x4,x6,0-100) by 100)\n",
    "x_train = train_dataset.multiply([1/5,1/100,1/5,1/100,1/5,1/100,1/5,1/100,1/5,1/100,1/5,1/100]).iloc[:,0:6]\n",
    "y_train = train_dataset.multiply([1/5,1/100,1/5,1/100,1/5,1/100,1/5,1/100,1/5,1/100,1/5,1/100]).iloc[:,6:12]\n",
    "x_test = test_dataset.multiply([1/5,1/100,1/5,1/100,1/5,1/100,1/5,1/100,1/5,1/100,1/5,1/100]).iloc[:,0:6]\n",
    "y_test = test_dataset.multiply([1/5,1/100,1/5,1/100,1/5,1/100,1/5,1/100,1/5,1/100,1/5,1/100]).iloc[:,6:12]\n",
    "print(data.shape, train_dataset.shape, test_dataset.shape)\n",
    "print(x_train.shape)"
   ]
  },
  {
   "cell_type": "code",
   "execution_count": 91,
   "id": "70e751cd",
   "metadata": {},
   "outputs": [
    {
     "name": "stdout",
     "output_type": "stream",
     "text": [
      "Model: \"sequential_5\"\n",
      "_________________________________________________________________\n",
      " Layer (type)                Output Shape              Param #   \n",
      "=================================================================\n",
      " dense_47 (Dense)            (None, 48)                336       \n",
      "                                                                 \n",
      " dense_48 (Dense)            (None, 96)                4704      \n",
      "                                                                 \n",
      " dense_49 (Dense)            (None, 192)               18624     \n",
      "                                                                 \n",
      " dense_50 (Dense)            (None, 96)                18528     \n",
      "                                                                 \n",
      " dense_51 (Dense)            (None, 6)                 582       \n",
      "                                                                 \n",
      "=================================================================\n",
      "Total params: 42774 (167.09 KB)\n",
      "Trainable params: 42774 (167.09 KB)\n",
      "Non-trainable params: 0 (0.00 Byte)\n",
      "_________________________________________________________________\n"
     ]
    }
   ],
   "source": [
    "# Definde Sequential Model\n",
    "model = keras.Sequential(\n",
    "    [   keras.Input(shape=(6,)),\n",
    "        keras.layers.Dense(48, activation='relu'),\n",
    "        keras.layers.Dense(96, activation='relu'),\n",
    "        keras.layers.Dense(192, activation='relu'),\n",
    "        keras.layers.Dense(96, activation='relu'),\n",
    "        keras.layers.Dense(6)\n",
    "    ]\n",
    ")\n",
    "model.summary()"
   ]
  },
  {
   "cell_type": "code",
   "execution_count": 92,
   "id": "af576670",
   "metadata": {},
   "outputs": [],
   "source": [
    "# loss, optimizer and metrics\n",
    "model.compile(loss=keras.losses.MeanSquaredError(), optimizer=keras.optimizers.Adam(learning_rate=0.001), metrics=['mae'])"
   ]
  },
  {
   "cell_type": "code",
   "execution_count": 105,
   "id": "546d806c",
   "metadata": {},
   "outputs": [],
   "source": [
    "class haltCallback(tf.keras.callbacks.Callback):\n",
    "    def on_epoch_end(self, epoch, logs={}):\n",
    "        if(logs.get('loss') <= 9.0e-08):\n",
    "            print(\"\\n\\n\\nReached 1.0e-07 loss value so stopping training!\\n\\n\\n\")\n",
    "            self.model.stop_training = True\n",
    "trainingStopCallback = haltCallback()"
   ]
  },
  {
   "cell_type": "code",
   "execution_count": 106,
   "id": "2bc56c36",
   "metadata": {
    "scrolled": true
   },
   "outputs": [
    {
     "name": "stdout",
     "output_type": "stream",
     "text": [
      "Epoch 1/100\n",
      "125/125 [==============================] - 1s 4ms/step - loss: 8.3032e-07 - mae: 6.3755e-04\n",
      "Epoch 2/100\n",
      "125/125 [==============================] - 1s 4ms/step - loss: 7.3225e-07 - mae: 6.3660e-04\n",
      "Epoch 3/100\n",
      "125/125 [==============================] - 0s 4ms/step - loss: 3.1113e-07 - mae: 4.2281e-04\n",
      "Epoch 4/100\n",
      "125/125 [==============================] - 1s 5ms/step - loss: 4.3753e-07 - mae: 4.4856e-04\n",
      "Epoch 5/100\n",
      "125/125 [==============================] - 1s 4ms/step - loss: 4.4161e-07 - mae: 4.8452e-04\n",
      "Epoch 6/100\n",
      "125/125 [==============================] - 1s 4ms/step - loss: 1.7854e-06 - mae: 9.5749e-04\n",
      "Epoch 7/100\n",
      "125/125 [==============================] - 1s 4ms/step - loss: 3.5519e-07 - mae: 4.3957e-04\n",
      "Epoch 8/100\n",
      "125/125 [==============================] - 1s 4ms/step - loss: 9.6535e-08 - mae: 2.3264e-04\n",
      "Epoch 9/100\n",
      "125/125 [==============================] - 1s 4ms/step - loss: 7.3364e-07 - mae: 5.8109e-04\n",
      "Epoch 10/100\n",
      "125/125 [==============================] - 0s 4ms/step - loss: 1.0817e-06 - mae: 7.6547e-04\n",
      "Epoch 11/100\n",
      "125/125 [==============================] - 0s 4ms/step - loss: 1.9632e-07 - mae: 3.2232e-04\n",
      "Epoch 12/100\n",
      "125/125 [==============================] - 1s 4ms/step - loss: 1.2137e-07 - mae: 2.6153e-04\n",
      "Epoch 13/100\n",
      "125/125 [==============================] - 1s 4ms/step - loss: 4.8019e-07 - mae: 5.0791e-04\n",
      "Epoch 14/100\n",
      "125/125 [==============================] - 1s 4ms/step - loss: 1.1269e-06 - mae: 7.8321e-04\n",
      "Epoch 15/100\n",
      "125/125 [==============================] - 1s 4ms/step - loss: 9.4729e-07 - mae: 6.9920e-04\n",
      "Epoch 16/100\n",
      "125/125 [==============================] - 1s 4ms/step - loss: 4.9495e-07 - mae: 5.3136e-04\n",
      "Epoch 17/100\n",
      "125/125 [==============================] - 1s 4ms/step - loss: 6.0822e-07 - mae: 5.8986e-04\n",
      "Epoch 18/100\n",
      "125/125 [==============================] - 1s 4ms/step - loss: 5.1308e-07 - mae: 5.0753e-04\n",
      "Epoch 19/100\n",
      "125/125 [==============================] - 1s 5ms/step - loss: 5.2007e-07 - mae: 5.2933e-04\n",
      "Epoch 20/100\n",
      "125/125 [==============================] - 1s 4ms/step - loss: 2.9335e-07 - mae: 3.9878e-04\n",
      "Epoch 21/100\n",
      "125/125 [==============================] - 1s 4ms/step - loss: 4.9189e-07 - mae: 4.9830e-04\n",
      "Epoch 22/100\n",
      "125/125 [==============================] - 0s 4ms/step - loss: 1.6514e-06 - mae: 8.5834e-04\n",
      "Epoch 23/100\n",
      "125/125 [==============================] - 1s 4ms/step - loss: 3.1908e-07 - mae: 4.1839e-04\n",
      "Epoch 24/100\n",
      "125/125 [==============================] - 1s 4ms/step - loss: 3.8351e-07 - mae: 4.4936e-04\n",
      "Epoch 25/100\n",
      "125/125 [==============================] - 1s 4ms/step - loss: 2.0520e-06 - mae: 9.4685e-04\n",
      "Epoch 26/100\n",
      "125/125 [==============================] - 1s 4ms/step - loss: 1.2914e-06 - mae: 7.9418e-04\n",
      "Epoch 27/100\n",
      "125/125 [==============================] - 1s 4ms/step - loss: 1.4453e-07 - mae: 2.8262e-04\n",
      "Epoch 28/100\n",
      "125/125 [==============================] - 1s 4ms/step - loss: 9.1053e-08 - mae: 2.3099e-04\n",
      "Epoch 29/100\n",
      "121/125 [============================>.] - ETA: 0s - loss: 7.6264e-08 - mae: 2.1155e-04\n",
      "\n",
      "\n",
      "Reached 1.0e-07 loss value so stopping training!\n",
      "\n",
      "\n",
      "\n",
      "125/125 [==============================] - 0s 4ms/step - loss: 7.6076e-08 - mae: 2.1140e-04\n"
     ]
    },
    {
     "data": {
      "text/plain": [
       "<keras.src.callbacks.History at 0x20abf9de310>"
      ]
     },
     "execution_count": 106,
     "metadata": {},
     "output_type": "execute_result"
    }
   ],
   "source": [
    "# training\n",
    "model.fit(x_train, y_train, epochs=100,batch_size=64, verbose=1, callbacks=[trainingStopCallback])"
   ]
  },
  {
   "cell_type": "code",
   "execution_count": 128,
   "id": "46dc046e",
   "metadata": {},
   "outputs": [
    {
     "name": "stdout",
     "output_type": "stream",
     "text": [
      "x1    x1  x2  x3  x4  x5  x6\n",
      "0   1   1   2   2   3   3\n",
      "y1    y1  y2  y3  y4  y5  y6\n",
      "0   0   2   4   3   5   6\n",
      "prediction:  [[0 2 4 3 5 6]]\n"
     ]
    }
   ],
   "source": [
    "x1 = x_test.iloc[0:1,:]\n",
    "y1 = y_test.iloc[0:1,:]\n",
    "x1_pred = model.predict(x1, verbose=0)\n",
    "print('x1',(x1*[5,100,5,100,5,100]).astype(int))\n",
    "print('y1',(y1*[5,100,5,100,5,100]).astype(int))\n",
    "print('prediction: ',np.round(x1_pred*[5,100,5,100,5,100]).astype(int))\n",
    "\n",
    "#x2 = x_test.iloc[1:2,:]\n",
    "#y2 = y_test.iloc[1:2,:]\n",
    "#x2_pred = model.predict(x2, verbose=0)\n",
    "#print((y2*[5,100,5,100,5,100]).astype(int))\n",
    "#print(np.round(x2_pred*[5,100,5,100,5,100]).astype(int))\n"
   ]
  },
  {
   "cell_type": "code",
   "execution_count": 109,
   "id": "f3a729ff",
   "metadata": {
    "scrolled": false
   },
   "outputs": [
    {
     "name": "stdout",
     "output_type": "stream",
     "text": [
      "63/63 [==============================] - 0s 3ms/step\n",
      "Number of correct solutions: 1987 , out of  2000 99.35 %\n"
     ]
    }
   ],
   "source": [
    "pred = model.predict(x_test)\n",
    "# De-Normalize\n",
    "x_round = np.round(x_test*[5,100,5,100,5,100]).astype(int)\n",
    "y_round = np.round(y_test*[5,100,5,100,5,100]).astype(int)\n",
    "pred_round = np.round(pred*[5,100,5,100,5,100]).astype(int)\n",
    "test_result = pred_round - y_round\n",
    "test_result_row_sums = test_result.abs().sum(axis=1)\n",
    "num_correct= len(test_result_row_sums[test_result_row_sums == 0])\n",
    "print('Number of correct solutions:',num_correct,', out of ',test_result.shape[0], (100*num_correct)/test_result.shape[0], '%')"
   ]
  },
  {
   "cell_type": "code",
   "execution_count": 98,
   "id": "cf734f23",
   "metadata": {
    "scrolled": false
   },
   "outputs": [
    {
     "name": "stdout",
     "output_type": "stream",
     "text": [
      "INFO:tensorflow:Assets written to: mathpyramid_1987_correct\\assets\n"
     ]
    },
    {
     "name": "stderr",
     "output_type": "stream",
     "text": [
      "INFO:tensorflow:Assets written to: mathpyramid_1987_correct\\assets\n"
     ]
    }
   ],
   "source": [
    "model.save(\"mathpyramid_1987_correct\")"
   ]
  },
  {
   "cell_type": "code",
   "execution_count": 108,
   "id": "bde6a4c3",
   "metadata": {},
   "outputs": [
    {
     "name": "stdout",
     "output_type": "stream",
     "text": [
      "Model: \"sequential_5\"\n",
      "_________________________________________________________________\n",
      " Layer (type)                Output Shape              Param #   \n",
      "=================================================================\n",
      " dense_47 (Dense)            (None, 48)                336       \n",
      "                                                                 \n",
      " dense_48 (Dense)            (None, 96)                4704      \n",
      "                                                                 \n",
      " dense_49 (Dense)            (None, 192)               18624     \n",
      "                                                                 \n",
      " dense_50 (Dense)            (None, 96)                18528     \n",
      "                                                                 \n",
      " dense_51 (Dense)            (None, 6)                 582       \n",
      "                                                                 \n",
      "=================================================================\n",
      "Total params: 42774 (167.09 KB)\n",
      "Trainable params: 42774 (167.09 KB)\n",
      "Non-trainable params: 0 (0.00 Byte)\n",
      "_________________________________________________________________\n"
     ]
    }
   ],
   "source": [
    "model = keras.models.load_model(\"mathpyramid_1987_correct\")\n",
    "model.summary()"
   ]
  },
  {
   "cell_type": "code",
   "execution_count": 135,
   "id": "20c8f768",
   "metadata": {},
   "outputs": [
    {
     "name": "stdout",
     "output_type": "stream",
     "text": [
      "    x1     x2   x3     x4   x5     x6\n",
      "0  0.0  0.175  0.2  0.114  0.4  0.102\n",
      "1/1 [==============================] - 0s 26ms/step\n",
      "[[  3 289   4 216   5 505]]\n"
     ]
    }
   ],
   "source": [
    "# Predict with higher values (<= 1000) -> works too\n",
    "data = {'x1': [0/5],\n",
    "        'x2': [175/1000],\n",
    "        'x3': [1/5],\n",
    "        'x4': [114/1000],\n",
    "        'x5': [2/5],\n",
    "        'x6': [102/1000]\n",
    "        }  \n",
    "# Create the pandas DataFrame\n",
    "df = pd.DataFrame(data)\n",
    "print(df)\n",
    "pred = model.predict(df)\n",
    "print(np.round(pred*[5,1000,5,1000,5,1000]).astype(int))"
   ]
  },
  {
   "cell_type": "code",
   "execution_count": null,
   "id": "dda46d71",
   "metadata": {},
   "outputs": [],
   "source": []
  }
 ],
 "metadata": {
  "kernelspec": {
   "display_name": "Python 3 (ipykernel)",
   "language": "python",
   "name": "python3"
  },
  "language_info": {
   "codemirror_mode": {
    "name": "ipython",
    "version": 3
   },
   "file_extension": ".py",
   "mimetype": "text/x-python",
   "name": "python",
   "nbconvert_exporter": "python",
   "pygments_lexer": "ipython3",
   "version": "3.11.5"
  }
 },
 "nbformat": 4,
 "nbformat_minor": 5
}
