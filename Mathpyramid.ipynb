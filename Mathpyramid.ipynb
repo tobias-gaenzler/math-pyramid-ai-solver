{
 "cells": [
  {
   "cell_type": "code",
   "execution_count": null,
   "id": "f107bd4e",
   "metadata": {},
   "outputs": [],
   "source": [
    "# Package imports\n",
    "import numpy as np\n",
    "import pandas as pd\n",
    "import tensorflow as tf\n",
    "from tensorflow import keras"
   ]
  },
  {
   "cell_type": "code",
   "execution_count": null,
   "id": "3dee837c",
   "metadata": {},
   "outputs": [],
   "source": [
    "data = pd.read_csv(\"data/data.csv\")\n",
    "print(\"data type:\",type(data))\n",
    "print(\"data shape:\", data.shape)\n",
    "print(\"data:\")\n",
    "print(data.head().to_string(index=False))\n",
    "\n",
    "# Split the data into train and test\n",
    "train_dataset = data.sample(frac=0.8, random_state=0)\n",
    "test_dataset = data.drop(train_dataset.index)\n",
    "\n",
    "# Normalize (divide by max value)\n",
    "x_train = train_dataset.multiply(1/100).iloc[:,0:6]\n",
    "y_train = train_dataset.multiply(1/100).iloc[:,6:12]\n",
    "x_test = test_dataset.multiply(1/100).iloc[:,0:6]\n",
    "y_test = test_dataset.multiply(1/100).iloc[:,6:12]\n",
    "print('Train shape',x_train.shape)\n",
    "print('Test shape',x_test.shape)"
   ]
  },
  {
   "cell_type": "code",
   "execution_count": null,
   "id": "70e751cd",
   "metadata": {},
   "outputs": [],
   "source": [
    "# Define Sequential Model\n",
    "model = keras.Sequential(\n",
    "    [   keras.Input(shape=(6,)),\n",
    "        keras.layers.Dense(48, activation='relu'),\n",
    "        keras.layers.Dense(96, activation='relu'),\n",
    "        keras.layers.Dense(192, activation='relu'),\n",
    "        keras.layers.Dense(96, activation='relu'),\n",
    "        keras.layers.Dense(48, activation='relu'),\n",
    "        keras.layers.Dense(6)\n",
    "    ]\n",
    ")\n",
    "model.summary()"
   ]
  },
  {
   "cell_type": "code",
   "execution_count": null,
   "id": "af576670",
   "metadata": {},
   "outputs": [],
   "source": [
    "# loss, optimizer and metrics\n",
    "model.compile(loss=keras.losses.MeanSquaredError(), \n",
    "              optimizer=keras.optimizers.Adam(learning_rate=0.001), \n",
    "              metrics=['mae'])"
   ]
  },
  {
   "cell_type": "code",
   "execution_count": null,
   "id": "546d806c",
   "metadata": {},
   "outputs": [],
   "source": [
    "class haltCallback(tf.keras.callbacks.Callback):\n",
    "    def on_epoch_end(self, epoch, logs={}):\n",
    "        if(logs.get('loss') <= 1.0e-06):\n",
    "            print(\"\\n\\n\\nReached loss limit, stopping training!\\n\\n\")\n",
    "            self.model.stop_training = True\n",
    "trainingStopCallback = haltCallback()"
   ]
  },
  {
   "cell_type": "code",
   "execution_count": null,
   "id": "2bc56c36",
   "metadata": {
    "scrolled": true
   },
   "outputs": [],
   "source": [
    "# training\n",
    "model.fit(x_train, y_train, epochs=100,batch_size=64, verbose=1, callbacks=[trainingStopCallback])"
   ]
  },
  {
   "cell_type": "code",
   "execution_count": null,
   "id": "46dc046e",
   "metadata": {
    "scrolled": true
   },
   "outputs": [],
   "source": [
    "pred = model.predict(x_train, verbose=0)\n",
    "test_result = np.round(pred*100).astype(int) - np.round(y_train*100).astype(int)\n",
    "test_result_row_sums = test_result.abs().sum(axis=1)\n",
    "num_correct=len(test_result_row_sums[test_result_row_sums == 0])\n",
    "print('Performance (train set):', (100*num_correct)/test_result.shape[0], '%')\n",
    "\n",
    "pred = model.predict(x_test, verbose=0)\n",
    "y_round = np.round(y_test*100).astype(int)\n",
    "test_result = np.round(pred*100).astype(int) - np.round(y_test*100).astype(int)\n",
    "test_result_row_sums = test_result.abs().sum(axis=1)\n",
    "num_correct= len(test_result_row_sums[test_result_row_sums == 0])\n",
    "print('Performance (test set):', (100*num_correct)/test_result.shape[0], '%')\n"
   ]
  },
  {
   "cell_type": "code",
   "execution_count": null,
   "id": "f3a729ff",
   "metadata": {
    "scrolled": false
   },
   "outputs": [],
   "source": [
    "# Check prediction of first test input\n",
    "x1 = x_test.iloc[0:1,:]\n",
    "y1 = y_test.iloc[0:1,:]\n",
    "x1_pred = model.predict(x1, verbose=0)\n",
    "print('x1',(x1*100).astype(int).to_string(index=False))\n",
    "print('y1',(y1*100).astype(int).to_string(index=False))\n",
    "print('prediction: \\n',np.round(x1_pred*100).astype(int)[0,:])\n",
    "\n"
   ]
  },
  {
   "cell_type": "code",
   "execution_count": null,
   "id": "cf734f23",
   "metadata": {
    "scrolled": false
   },
   "outputs": [],
   "source": [
    "#model.save(\"mathpyramid\")"
   ]
  },
  {
   "cell_type": "code",
   "execution_count": null,
   "id": "bde6a4c3",
   "metadata": {},
   "outputs": [],
   "source": [
    "#model = keras.models.load_model(\"mathpyramid_vectors_99.2_correct\")\n",
    "#model.summary()"
   ]
  },
  {
   "cell_type": "code",
   "execution_count": null,
   "id": "20c8f768",
   "metadata": {},
   "outputs": [],
   "source": [
    "# Predict with higher values (<= 1000)\n",
    "data = {'x1': [175],\n",
    "        'x2': [114],\n",
    "        'x3': [102],\n",
    "        'x4': [175+114],\n",
    "        'x5': [114 + 102],\n",
    "        'x6': [175+114 + 114 + 102]\n",
    "        }  \n",
    "# Create the pandas DataFrame\n",
    "df = pd.DataFrame(data)\n",
    "print(df)\n",
    "pred = model.predict(df/1000)\n",
    "print(np.round(pred*1000).astype(int))"
   ]
  },
  {
   "cell_type": "code",
   "execution_count": null,
   "id": "dda46d71",
   "metadata": {},
   "outputs": [],
   "source": []
  }
 ],
 "metadata": {
  "kernelspec": {
   "display_name": "Python 3 (ipykernel)",
   "language": "python",
   "name": "python3"
  },
  "language_info": {
   "codemirror_mode": {
    "name": "ipython",
    "version": 3
   },
   "file_extension": ".py",
   "mimetype": "text/x-python",
   "name": "python",
   "nbconvert_exporter": "python",
   "pygments_lexer": "ipython3",
   "version": "3.11.5"
  }
 },
 "nbformat": 4,
 "nbformat_minor": 5
}
