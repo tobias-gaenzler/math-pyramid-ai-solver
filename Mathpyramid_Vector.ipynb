{
 "cells": [
  {
   "cell_type": "code",
   "execution_count": 1,
   "id": "f107bd4e",
   "metadata": {},
   "outputs": [],
   "source": [
    "# Package imports\n",
    "import numpy as np\n",
    "import copy\n",
    "import matplotlib.pyplot as plt\n",
    "import sklearn\n",
    "import sklearn.datasets\n",
    "import sklearn.linear_model\n",
    "import pandas as pd\n",
    "import tensorflow as tf\n",
    "from tensorflow import keras\n",
    "\n",
    "%matplotlib inline\n",
    "\n",
    "%load_ext autoreload\n",
    "%autoreload 2"
   ]
  },
  {
   "cell_type": "code",
   "execution_count": 129,
   "id": "3dee837c",
   "metadata": {},
   "outputs": [
    {
     "name": "stdout",
     "output_type": "stream",
     "text": [
      "data type: <class 'pandas.core.frame.DataFrame'>\n",
      "data shape: (10000, 12)\n",
      "data:       x1  x2  x3  x4  x5  x6  y1  y2  y3  y4  y5  y6\n",
      "0      0   1   0   0   4   7   2   1   3   3   4   7\n",
      "1      1   0   2   2   0   0   1   1   2   2   3   5\n",
      "2      0   0   3   3   5   0   1   2   3   3   5   8\n",
      "3      2   1   0   0   6   0   2   1   5   3   6   9\n",
      "4      4   1   2   0   0   0   4   1   2   5   3   8\n",
      "...   ..  ..  ..  ..  ..  ..  ..  ..  ..  ..  ..  ..\n",
      "9995   0   0  23  44   0  90  21  23  23  44  46  90\n",
      "9996   0  24   0   0  48  83  11  24  24  35  48  83\n",
      "9997   0  23   0   0  43  90  24  23  20  47  43  90\n",
      "9998   0   0  24  44   0  90  22  22  24  44  46  90\n",
      "9999   0   0  24   0  48  96  24  24  24  48  48  96\n",
      "\n",
      "[10000 rows x 12 columns]\n",
      "(10000, 12) (8000, 12) (2000, 12)\n",
      "(8000, 6)\n"
     ]
    }
   ],
   "source": [
    "data = pd.read_csv(\"data_vectors_10000.csv\")\n",
    "print(\"data type:\",type(data))\n",
    "print(\"data shape:\", data.shape)\n",
    "print(\"data:\",data)\n",
    "\n",
    "# Split the data into train and test\n",
    "train_dataset = data.sample(frac=0.8, random_state=0)\n",
    "test_dataset = data.drop(train_dataset.index)\n",
    "\n",
    "# Normalize (divide by max value)\n",
    "x_train = train_dataset.multiply(1/100).iloc[:,0:6]\n",
    "y_train = train_dataset.multiply(1/100).iloc[:,6:12]\n",
    "x_test = test_dataset.multiply(1/100).iloc[:,0:6]\n",
    "y_test = test_dataset.multiply(1/100).iloc[:,6:12]\n",
    "print('Train shape',x_train.shape)\n",
    "print('Test shape',x_test.shape)"
   ]
  },
  {
   "cell_type": "code",
   "execution_count": null,
   "id": "70e751cd",
   "metadata": {},
   "outputs": [],
   "source": [
    "# Define Sequential Model\n",
    "model = keras.Sequential(\n",
    "    [   keras.Input(shape=(6,)),\n",
    "        keras.layers.Dense(48, activation='relu'),\n",
    "        keras.layers.Dense(96, activation='relu'),\n",
    "        keras.layers.Dense(192, activation='relu'),\n",
    "        keras.layers.Dense(96, activation='relu'),\n",
    "        keras.layers.Dense(48, activation='relu'),\n",
    "        keras.layers.Dense(6)\n",
    "    ]\n",
    ")\n",
    "model.summary()"
   ]
  },
  {
   "cell_type": "code",
   "execution_count": 131,
   "id": "af576670",
   "metadata": {},
   "outputs": [],
   "source": [
    "# loss, optimizer and metrics\n",
    "model.compile(loss=keras.losses.MeanSquaredError(), \n",
    "              optimizer=keras.optimizers.Adam(learning_rate=0.001), \n",
    "              metrics=['mae'])"
   ]
  },
  {
   "cell_type": "code",
   "execution_count": 132,
   "id": "546d806c",
   "metadata": {},
   "outputs": [],
   "source": [
    "class haltCallback(tf.keras.callbacks.Callback):\n",
    "    def on_epoch_end(self, epoch, logs={}):\n",
    "        if(logs.get('loss') <= 9.0e-08):\n",
    "            print(\"\\n\\n\\nReached 9.0e-08 loss value, stopping training!\\n\\n\")\n",
    "            self.model.stop_training = True\n",
    "trainingStopCallback = haltCallback()"
   ]
  },
  {
   "cell_type": "code",
   "execution_count": null,
   "id": "2bc56c36",
   "metadata": {
    "scrolled": true
   },
   "outputs": [],
   "source": [
    "# training\n",
    "model.fit(x_train, y_train, epochs=10000,batch_size=64, verbose=1, callbacks=[trainingStopCallback])"
   ]
  },
  {
   "cell_type": "code",
   "execution_count": 134,
   "id": "46dc046e",
   "metadata": {
    "scrolled": true
   },
   "outputs": [
    {
     "name": "stdout",
     "output_type": "stream",
     "text": [
      "Performance (train set): 100.0 %\n",
      "Performance (test set): 99.2 %\n"
     ]
    }
   ],
   "source": [
    "pred = model.predict(x_train, verbose=0)\n",
    "test_result = np.round(pred*100).astype(int) - np.round(y_train*100).astype(int)\n",
    "test_result_row_sums = test_result.abs().sum(axis=1)\n",
    "num_correct=len(test_result_row_sums[test_result_row_sums == 0])\n",
    "print('Performance (train set):', (100*num_correct)/test_result.shape[0], '%')\n",
    "\n",
    "pred = model.predict(x_test, verbose=0)\n",
    "y_round = np.round(y_test*100).astype(int)\n",
    "test_result = np.round(pred*100).astype(int) - np.round(y_test*100).astype(int)\n",
    "test_result_row_sums = test_result.abs().sum(axis=1)\n",
    "num_correct= len(test_result_row_sums[test_result_row_sums == 0])\n",
    "print('Performance (test set):', (100*num_correct)/test_result.shape[0], '%')\n"
   ]
  },
  {
   "cell_type": "code",
   "execution_count": 137,
   "id": "f3a729ff",
   "metadata": {
    "scrolled": false
   },
   "outputs": [
    {
     "name": "stdout",
     "output_type": "stream",
     "text": [
      "x1  x1  x2  x3  x4  x5  x6\n",
      "  0   1   0   0   4   7\n",
      "y1  y1  y2  y3  y4  y5  y6\n",
      "  2   1   3   3   4   7\n",
      "prediction: \n",
      " [2 1 3 3 4 7]\n"
     ]
    }
   ],
   "source": [
    "# Check prediction of first test input\n",
    "x1 = x_test.iloc[0:1,:]\n",
    "y1 = y_test.iloc[0:1,:]\n",
    "x1_pred = model.predict(x1, verbose=0)\n",
    "print('x1',(x1*100).astype(int).to_string(index=False))\n",
    "print('y1',(y1*100).astype(int).to_string(index=False))\n",
    "print('prediction: \\n',np.round(x1_pred*100).astype(int)[0,:])\n",
    "\n"
   ]
  },
  {
   "cell_type": "code",
   "execution_count": null,
   "id": "cf734f23",
   "metadata": {
    "scrolled": false
   },
   "outputs": [],
   "source": [
    "model.save(\"mathpyramid_vectors_99.2_correct\")"
   ]
  },
  {
   "cell_type": "code",
   "execution_count": null,
   "id": "bde6a4c3",
   "metadata": {},
   "outputs": [],
   "source": [
    "#model = keras.models.load_model(\"mathpyramid_1987_correct\")\n",
    "#model.summary()"
   ]
  },
  {
   "cell_type": "code",
   "execution_count": 136,
   "id": "20c8f768",
   "metadata": {},
   "outputs": [
    {
     "name": "stdout",
     "output_type": "stream",
     "text": [
      "    x1   x2   x3   x4   x5   x6\n",
      "0  175  114  102  289  216  505\n",
      "1/1 [==============================] - 0s 16ms/step\n",
      "[[157 155  94 311 249 560]]\n"
     ]
    }
   ],
   "source": [
    "# Predict with higher values (<= 1000)\n",
    "data = {'x1': [175],\n",
    "        'x2': [114],\n",
    "        'x3': [102],\n",
    "        'x4': [175+114],\n",
    "        'x5': [114 + 102],\n",
    "        'x6': [175+114 + 114 + 102]\n",
    "        }  \n",
    "# Create the pandas DataFrame\n",
    "df = pd.DataFrame(data)\n",
    "print(df)\n",
    "pred = model.predict(df/1000)\n",
    "print(np.round(pred*1000).astype(int))"
   ]
  },
  {
   "cell_type": "code",
   "execution_count": null,
   "id": "dda46d71",
   "metadata": {},
   "outputs": [],
   "source": []
  }
 ],
 "metadata": {
  "kernelspec": {
   "display_name": "Python 3 (ipykernel)",
   "language": "python",
   "name": "python3"
  },
  "language_info": {
   "codemirror_mode": {
    "name": "ipython",
    "version": 3
   },
   "file_extension": ".py",
   "mimetype": "text/x-python",
   "name": "python",
   "nbconvert_exporter": "python",
   "pygments_lexer": "ipython3",
   "version": "3.11.5"
  }
 },
 "nbformat": 4,
 "nbformat_minor": 5
}
